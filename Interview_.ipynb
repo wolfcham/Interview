{
  "nbformat": 4,
  "nbformat_minor": 0,
  "metadata": {
    "colab": {
      "provenance": [],
      "authorship_tag": "ABX9TyO/DS2DIOCex9uL7MIcGNsN",
      "include_colab_link": true
    },
    "kernelspec": {
      "name": "python3",
      "display_name": "Python 3"
    },
    "language_info": {
      "name": "python"
    }
  },
  "cells": [
    {
      "cell_type": "markdown",
      "metadata": {
        "id": "view-in-github",
        "colab_type": "text"
      },
      "source": [
        "<a href=\"https://colab.research.google.com/github/wolfcham/Interview/blob/main/Interview_.ipynb\" target=\"_parent\"><img src=\"https://colab.research.google.com/assets/colab-badge.svg\" alt=\"Open In Colab\"/></a>"
      ]
    },
    {
      "cell_type": "markdown",
      "source": [
        "20 BASIC QUESTIONS FOR INTERVIEW.\n",
        "\n",
        "DATA TYPES:-\n",
        "\n",
        "1. What are the different data types in Python?\n",
        "2. What is the difference between integer and float data types in Python?\n",
        "3. How do you convert a string to a integer in Python?\n",
        "4. What is a complex number in Python and how do you create one?\n",
        "5. Can you change the data type of an object in Python after it has been        created?\n",
        "\n",
        "OPERATORS:-\n",
        "6. What are the different types of operators in Python?\n",
        "\n",
        "7. What is the difference between \"==\" and \"is\" in Python?\n",
        "8. What is the order of operations in Python?\n",
        "9. How do you use the modulo operator in Python?\n",
        "10.What is operator overloading in Python?\n",
        "\n",
        "CONDITIONAL STATEMENTS:-\n",
        "11. What are conditional statements in Python and how do you use them?\n",
        "\n",
        "12. What is the difference between \"if\" and \"elif\" statements in Python?\n",
        "13. How do you use the \"ternary operator\" in Python?\n",
        "14. What is the use of the \"pass\" statement in Python?\n",
        "\n",
        "LOOPING STATEMENTS:-\n",
        "15. What are looping statements in Python and how do you use them?\n",
        "\n",
        "16. What is the difference between \"for\" and \"while\" loops in Python?\n",
        "17. How do you use the \"break\" and \"continue\" statements in a loop in Python?\n",
        "18. What is the difference between the \"range\" and \"xrange\" functions in Python?\n",
        "\n",
        "FUNCTIONS:-\n",
        "19. What are functions in Python and how do you define them?\n",
        "\n",
        "20. What is the difference between a function and a method in Python?"
      ],
      "metadata": {
        "id": "82t0vCX5j-hA"
      }
    }
  ]
}